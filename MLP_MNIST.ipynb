{
 "cells": [
  {
   "cell_type": "markdown",
   "metadata": {},
   "source": [
    "# Building Deep Neural Network :: Fully Connected Layer\n",
    "\n",
    "해당 스크립트에서는 기본적인 Fully Connected Layer라고 불리는 기본적인 Neural Network를 numpy를 이용하여 구현하도록 하겠습니다.\n",
    "\n",
    "- 시작하기 앞서서 먼저 forward/Activation/Softmax/MSE Cost/Gradient Descent에 대해서 먼저 설명합니다.\n",
    "\n",
    "- 해당 모듈을 확인하고 나면, 이를 연결하여 하나의 Fully Connected Layer를 만듭니다."
   ]
  },
  {
   "cell_type": "markdown",
   "metadata": {},
   "source": [
    "## 1 - MNIST Data Load \n",
    "\n",
    "먼저, 예제 데이터를 입력으로 사용하기 위해서 MNIST 데이터를 로드합니다."
   ]
  },
  {
   "cell_type": "code",
   "execution_count": 33,
   "metadata": {},
   "outputs": [
    {
     "name": "stdout",
     "output_type": "stream",
     "text": [
      "Populating the interactive namespace from numpy and matplotlib\n"
     ]
    }
   ],
   "source": [
    "import numpy as np\n",
    "import gzip\n",
    "import struct\n",
    "import matplotlib.pyplot as plt\n",
    "%pylab inline\n",
    "pylab.rcParams['figure.figsize'] = (20, 20)"
   ]
  },
  {
   "cell_type": "code",
   "execution_count": 30,
   "metadata": {},
   "outputs": [],
   "source": [
    "# MNIST Data Load\n",
    "def read_data(label_path, image_path):\n",
    "    with gzip.open(label_path) as flbl:\n",
    "        _, _ = struct.unpack(\">II\", flbl.read(8))\n",
    "        label = np.fromstring(flbl.read(), dtype=np.int8)\n",
    "    with gzip.open(image_path, 'rb') as fimg:\n",
    "        _, _, rows, cols = struct.unpack(\">IIII\", fimg.read(16))\n",
    "        image = np.fromstring(fimg.read(), dtype=np.uint8).reshape(len(label), rows, cols)\n",
    "    return (label, image)"
   ]
  },
  {
   "cell_type": "code",
   "execution_count": 31,
   "metadata": {},
   "outputs": [],
   "source": [
    "path = \"data/\"\n",
    "(train_label, train_img) = read_data(path+'train-labels-idx1-ubyte.gz', path+'train-images-idx3-ubyte.gz')\n",
    "(val_label, val_img) = read_data(path+'t10k-labels-idx1-ubyte.gz', path+'t10k-images-idx3-ubyte.gz')"
   ]
  },
  {
   "cell_type": "code",
   "execution_count": 42,
   "metadata": {},
   "outputs": [
    {
     "data": {
      "image/png": "[encoded data removed]",
      "text/plain": [
       "<matplotlib.figure.Figure at 0x7f77d685ef98>"
      ]
     },
     "metadata": {},
     "output_type": "display_data"
    }
   ],
   "source": [
    "for i in range(10):\n",
    "    plt.subplot(1, 10, i+1)\n",
    "    plt.imshow(train_img[i], cmap='Greys_r')\n",
    "    plt.axis('off')\n",
    "\n",
    "plt.show()\n",
    "\n",
    "train_label = train_label.astype(np.int64)\n",
    "train_img = train_img.astype(np.float32) / 255\n",
    "val_label = val_label.astype(np.int64)\n",
    "val_img = val_img.astype(np.float32) / 255"
   ]
  },
  {
   "cell_type": "markdown",
   "metadata": {},
   "source": [
    "## 2 - Forward Operation\n",
    "\n",
    "1. 먼저 입력 데이터의 차원에 맞게, 가중치 행렬을 생성하고 초기화합니다.\n",
    "2. 초기화된 Weights와 bias를 입력 데이터와 Linear 연산을 통해서 Weights Sum을 진행합니다.\n",
    "3. 그 이후, ACTIVATION (Sigmoid, ReLU etc)를 이용해서 최종 출력을 얻습니다.\n",
    "\n",
    "\n",
    "<img src=\"images/perceptron.png\" style=\"width:650px;height:300px;\">\n",
    "<caption><center> <u>Figure 1</u>: Forward Operation. <br> The model can be summarized as: ***[INPUT -> LINEAR -> ACTIVATION]***</center></caption>\n",
    "\n",
    "<br/>\n",
    "위의 그림을 수식으로 일반화하면, 아래와 같습니다\n",
    "<br/><br/>\n",
    "\n",
    "<table style=\"width:100%\">\n",
    "\n",
    "\n",
    "    <tr>\n",
    "        <td>  </td> \n",
    "        <td> **Shape of W** </td> \n",
    "        <td> **Shape of b**  </td> \n",
    "        <td> **Activation** </td>\n",
    "        <td> **Shape of Activation** </td> \n",
    "    <tr>\n",
    "    \n",
    "    <tr>\n",
    "        <td> **Layer 1** </td> \n",
    "        <td> $(n^{[1]},12288)$ </td> \n",
    "        <td> $(n^{[1]},1)$ </td> \n",
    "        <td> $Z^{[1]} = W^{[1]}  X + b^{[1]} $ </td> \n",
    "        \n",
    "        <td> $(n^{[1]},209)$ </td> \n",
    "    <tr>\n",
    "    \n",
    "    <tr>\n",
    "        <td> **Layer 2** </td> \n",
    "        <td> $(n^{[2]}, n^{[1]})$  </td> \n",
    "        <td> $(n^{[2]},1)$ </td> \n",
    "        <td>$Z^{[2]} = W^{[2]} A^{[1]} + b^{[2]}$ </td> \n",
    "        <td> $(n^{[2]}, 209)$ </td> \n",
    "    <tr>\n",
    "   \n",
    "       <tr>\n",
    "        <td> $\\vdots$ </td> \n",
    "        <td> $\\vdots$  </td> \n",
    "        <td> $\\vdots$  </td> \n",
    "        <td> $\\vdots$</td> \n",
    "        <td> $\\vdots$  </td> \n",
    "    <tr>\n",
    "    \n",
    "   <tr>\n",
    "        <td> **Layer L-1** </td> \n",
    "        <td> $(n^{[L-1]}, n^{[L-2]})$ </td> \n",
    "        <td> $(n^{[L-1]}, 1)$  </td> \n",
    "        <td>$Z^{[L-1]} =  W^{[L-1]} A^{[L-2]} + b^{[L-1]}$ </td> \n",
    "        <td> $(n^{[L-1]}, 209)$ </td> \n",
    "    <tr>\n",
    "    \n",
    "    \n",
    "   <tr>\n",
    "        <td> **Layer L** </td> \n",
    "        <td> $(n^{[L]}, n^{[L-1]})$ </td> \n",
    "        <td> $(n^{[L]}, 1)$ </td>\n",
    "        <td> $Z^{[L]} =  W^{[L]} A^{[L-1]} + b^{[L]}$</td>\n",
    "        <td> $(n^{[L]}, 209)$  </td> \n",
    "    <tr>\n",
    "\n",
    "</table>\n",
    "\n",
    "Remember that when we compute $W X + b$ in python, it carries out broadcasting. For example, if: \n",
    "\n",
    "$$ W = \\begin{bmatrix}\n",
    "    j  & k  & l\\\\\n",
    "    m  & n & o \\\\\n",
    "    p  & q & r \n",
    "\\end{bmatrix}\\;\\;\\; X = \\begin{bmatrix}\n",
    "    a  & b  & c\\\\\n",
    "    d  & e & f \\\\\n",
    "    g  & h & i \n",
    "\\end{bmatrix} \\;\\;\\; b =\\begin{bmatrix}\n",
    "    s  \\\\\n",
    "    t  \\\\\n",
    "    u\n",
    "\\end{bmatrix}\\tag{2}$$\n",
    "\n",
    "Then $WX + b$ will be:\n",
    "\n",
    "$$ WX + b = \\begin{bmatrix}\n",
    "    (ja + kd + lg) + s  & (jb + ke + lh) + s  & (jc + kf + li)+ s\\\\\n",
    "    (ma + nd + og) + t & (mb + ne + oh) + t & (mc + nf + oi) + t\\\\\n",
    "    (pa + qd + rg) + u & (pb + qe + rh) + u & (pc + qf + ri)+ u\n",
    "\\end{bmatrix}\\tag{3}  $$"
   ]
  },
  {
   "cell_type": "markdown",
   "metadata": {},
   "source": [
    "### 2-1. Initialization\n",
    "\n",
    "- 데이터 차원에 맞게 가중치 행렬을 생성하고 초기화합니다.\n",
    "- 일반적으로 weights는 난수로, bias는 0으로 초기화합니다."
   ]
  },
  {
   "cell_type": "code",
   "execution_count": 35,
   "metadata": {
    "collapsed": true
   },
   "outputs": [],
   "source": [
    "# GRADED FUNCTION: initialize_parameters\n",
    "\n",
    "def basic_initialize_parameters(n_x, n_h, n_y):\n",
    "    \"\"\"\n",
    "    Argument:\n",
    "    n_x -- size of the input layer\n",
    "    n_h -- size of the hidden layer\n",
    "    n_y -- size of the output layer\n",
    "    \n",
    "    Returns:\n",
    "    parameters -- python dictionary containing your parameters:\n",
    "                    W1 -- weight matrix of shape (n_h, n_x)\n",
    "                    b1 -- bias vector of shape (n_h, 1)\n",
    "                    W2 -- weight matrix of shape (n_y, n_h)\n",
    "                    b2 -- bias vector of shape (n_y, 1)\n",
    "    \"\"\"\n",
    "    \n",
    "    np.random.seed(1)\n",
    "    \n",
    "    W1 = np.random.randn(n_h, n_x) * 0.01\n",
    "    b1 = np.zeros(shape=(n_h, 1))\n",
    "    W2 = np.random.randn(n_y, n_h) * 0.01\n",
    "    b2 = np.zeros(shape=(n_y, 1))\n",
    "    \n",
    "    assert(W1.shape == (n_h, n_x))\n",
    "    assert(b1.shape == (n_h, 1))\n",
    "    assert(W2.shape == (n_y, n_h))\n",
    "    assert(b2.shape == (n_y, 1))\n",
    "    \n",
    "    parameters = {\"W1\": W1,\n",
    "                  \"b1\": b1,\n",
    "                  \"W2\": W2,\n",
    "                  \"b2\": b2}\n",
    "    \n",
    "    return parameters    "
   ]
  },
  {
   "cell_type": "code",
   "execution_count": 36,
   "metadata": {},
   "outputs": [
    {
     "name": "stdout",
     "output_type": "stream",
     "text": [
      "W1 = [[ 0.01624345 -0.00611756]\n",
      " [-0.00528172 -0.01072969]]\n",
      "b1 = [[ 0.]\n",
      " [ 0.]]\n",
      "W2 = [[ 0.00865408 -0.02301539]]\n",
      "b2 = [[ 0.]]\n"
     ]
    }
   ],
   "source": [
    "parameters = basic_initialize_parameters(2,2,1)\n",
    "print(\"W1 = \" + str(parameters[\"W1\"]))\n",
    "print(\"b1 = \" + str(parameters[\"b1\"]))\n",
    "print(\"W2 = \" + str(parameters[\"W2\"]))\n",
    "print(\"b2 = \" + str(parameters[\"b2\"]))"
   ]
  },
  {
   "cell_type": "markdown",
   "metadata": {},
   "source": [
    "**Expected output**:\n",
    "       \n",
    "<table style=\"width:80%\">\n",
    "  <tr>\n",
    "    <td> **W1** </td>\n",
    "    <td> [[ 0.01624345 -0.00611756]\n",
    " [-0.00528172 -0.01072969]] </td> \n",
    "  </tr>\n",
    "\n",
    "  <tr>\n",
    "    <td> **b1**</td>\n",
    "    <td>[[ 0.]\n",
    " [ 0.]]</td> \n",
    "  </tr>\n",
    "  \n",
    "  <tr>\n",
    "    <td>**W2**</td>\n",
    "    <td> [[ 0.00865408 -0.02301539]]</td>\n",
    "  </tr>\n",
    "  \n",
    "  <tr>\n",
    "    <td> **b2** </td>\n",
    "    <td> [[ 0.]] </td> \n",
    "  </tr>\n",
    "  \n",
    "</table>"
   ]
  },
  {
   "cell_type": "code",
   "execution_count": 50,
   "metadata": {
    "collapsed": true
   },
   "outputs": [],
   "source": [
    "def initialize_parameters_deep(layer_dims):\n",
    "    \"\"\"\n",
    "    Arguments:\n",
    "    layer_dims -- python array (list) containing the dimensions of each layer in our network\n",
    "    \n",
    "    Returns:\n",
    "    parameters -- python dictionary containing your parameters \"W1\", \"b1\", ..., \"WL\", \"bL\":\n",
    "                    Wl -- weight matrix of shape (layer_dims[l], layer_dims[l-1])\n",
    "                    bl -- bias vector of shape (layer_dims[l], 1)\n",
    "    \"\"\"\n",
    "    \n",
    "    np.random.seed(3)\n",
    "    parameters = {}\n",
    "    L = len(layer_dims)            # number of layers in the network\n",
    "\n",
    "    for l in range(1, L):    \n",
    "        parameters['W' + str(l)] = np.random.randn(layer_dims[l], layer_dims[l - 1]) * 0.01\n",
    "        parameters['b' + str(l)] = np.zeros((layer_dims[l], 1))        \n",
    "        \n",
    "        assert(parameters['W' + str(l)].shape == (layer_dims[l], layer_dims[l - 1]))\n",
    "        assert(parameters['b' + str(l)].shape == (layer_dims[l], 1))\n",
    "\n",
    "        \n",
    "    return parameters"
   ]
  },
  {
   "cell_type": "code",
   "execution_count": 40,
   "metadata": {},
   "outputs": [
    {
     "name": "stdout",
     "output_type": "stream",
     "text": [
      "W1 = [[ 0.01788628  0.0043651   0.00096497 -0.01863493 -0.00277388]\n",
      " [-0.00354759 -0.00082741 -0.00627001 -0.00043818 -0.00477218]\n",
      " [-0.01313865  0.00884622  0.00881318  0.01709573  0.00050034]\n",
      " [-0.00404677 -0.0054536  -0.01546477  0.00982367 -0.01101068]]\n",
      "b1 = [[ 0.]\n",
      " [ 0.]\n",
      " [ 0.]\n",
      " [ 0.]]\n",
      "W2 = [[-0.01185047 -0.0020565   0.01486148  0.00236716]\n",
      " [-0.01023785 -0.00712993  0.00625245 -0.00160513]\n",
      " [-0.00768836 -0.00230031  0.00745056  0.01976111]]\n",
      "b2 = [[ 0.]\n",
      " [ 0.]\n",
      " [ 0.]]\n"
     ]
    }
   ],
   "source": [
    "parameters = initialize_parameters_deep([5,4,3])\n",
    "print(\"W1 = \" + str(parameters[\"W1\"]))\n",
    "print(\"b1 = \" + str(parameters[\"b1\"]))\n",
    "print(\"W2 = \" + str(parameters[\"W2\"]))\n",
    "print(\"b2 = \" + str(parameters[\"b2\"]))"
   ]
  },
  {
   "cell_type": "markdown",
   "metadata": {},
   "source": [
    "**Expected output**:\n",
    "       \n",
    "<table style=\"width:80%\">\n",
    "  <tr>\n",
    "    <td> **W1** </td>\n",
    "    <td>[[ 0.01788628  0.0043651   0.00096497 -0.01863493 -0.00277388]\n",
    " [-0.00354759 -0.00082741 -0.00627001 -0.00043818 -0.00477218]\n",
    " [-0.01313865  0.00884622  0.00881318  0.01709573  0.00050034]\n",
    " [-0.00404677 -0.0054536  -0.01546477  0.00982367 -0.01101068]]</td> \n",
    "  </tr>\n",
    "  \n",
    "  <tr>\n",
    "    <td>**b1** </td>\n",
    "    <td>[[ 0.]\n",
    " [ 0.]\n",
    " [ 0.]\n",
    " [ 0.]]</td> \n",
    "  </tr>\n",
    "  \n",
    "  <tr>\n",
    "    <td>**W2** </td>\n",
    "    <td>[[-0.01185047 -0.0020565   0.01486148  0.00236716]\n",
    " [-0.01023785 -0.00712993  0.00625245 -0.00160513]\n",
    " [-0.00768836 -0.00230031  0.00745056  0.01976111]]</td> \n",
    "  </tr>\n",
    "  \n",
    "  <tr>\n",
    "    <td>**b2** </td>\n",
    "    <td>[[ 0.]\n",
    " [ 0.]\n",
    " [ 0.]]</td> \n",
    "  </tr>\n",
    "  \n",
    "</table>"
   ]
  },
  {
   "cell_type": "markdown",
   "metadata": {},
   "source": [
    "### 2-2. Linear Forward Module\n",
    "\n",
    "Linear Forward Module은 아래와 같은 수식으로 일반화되어 계산됩니다.\n",
    "\n",
    "$$Z^{[l]} = W^{[l]}A^{[l-1]} +b^{[l]}\\tag{4}$$\n",
    "\n",
    "where $A^{[0]} = X$. \n",
    "<br/>\n",
    "<br/>"
   ]
  },
  {
   "cell_type": "code",
   "execution_count": 41,
   "metadata": {
    "collapsed": true
   },
   "outputs": [],
   "source": [
    "def linear_forward(A, W, b):\n",
    "    \"\"\"\n",
    "    Implement the linear part of a layer's forward propagation.\n",
    "\n",
    "    Arguments:\n",
    "    A -- activations from previous layer (or input data): (size of previous layer, number of examples)\n",
    "    W -- weights matrix: numpy array of shape (size of current layer, size of previous layer)\n",
    "    b -- bias vector, numpy array of shape (size of the current layer, 1)\n",
    "\n",
    "    Returns:\n",
    "    Z -- the input of the activation function, also called pre-activation parameter \n",
    "    cache -- a python dictionary containing \"A\", \"W\" and \"b\" ; stored for computing the backward pass efficiently\n",
    "    \"\"\"\n",
    "    \n",
    "    Z = np.dot(W, A) + b\n",
    "    \n",
    "    assert(Z.shape == (W.shape[0], A.shape[1]))\n",
    "    cache = (A, W, b)\n",
    "    \n",
    "    return Z, cache"
   ]
  },
  {
   "cell_type": "code",
   "execution_count": 59,
   "metadata": {},
   "outputs": [
    {
     "name": "stdout",
     "output_type": "stream",
     "text": [
      "X's dimensions : (28, 28)\n",
      "\n",
      "key of parameters : dict_keys(['b2', 'W1', 'b1', 'W2'])\n",
      "\n",
      "Z[0] = [  0.00000000e+00   0.00000000e+00   0.00000000e+00   0.00000000e+00\n",
      "  -4.94962319e-03  -8.56088005e-03  -7.01055263e-03   9.21223156e-04\n",
      "  -1.40779296e-03   7.28034138e-04  -5.37452855e-05  -5.59312440e-03\n",
      "  -5.34447205e-03   6.72926288e-03  -7.75971334e-03  -1.84216995e-02\n",
      "  -2.45760235e-02  -4.69203890e-02  -3.32101138e-02  -2.23488248e-02\n",
      "  -8.95088092e-03  -5.70976535e-03  -5.02796410e-03  -1.97450375e-03\n",
      "   0.00000000e+00   0.00000000e+00   0.00000000e+00   0.00000000e+00]\n"
     ]
    }
   ],
   "source": [
    "X = train_img[0]\n",
    "print(\"X's dimensions : {}\".format(X.shape), end=\"\\n\\n\")\n",
    "\n",
    "parameters = initialize_parameters_deep([28,28,1])\n",
    "print(\"key of parameters : {}\".format(parameters.keys()), end=\"\\n\\n\")\n",
    "A, W, b = X, parameters[\"W1\"], parameters[\"b1\"]\n",
    "Z, linear_cache = linear_forward(X, W, b)\n",
    "\n",
    "print(\"Z[0] = \" + str(Z[0]))"
   ]
  },
  {
   "cell_type": "markdown",
   "metadata": {},
   "source": [
    "**Expected output**:\n",
    "       \n",
    "<table style=\"width:100%\">\n",
    "  <tr>\n",
    "    <td> **Z[0]** </td>\n",
    "    <td>[  0.00000000e+00   0.00000000e+00   0.00000000e+00   0.00000000e+00\n",
    "  -4.94962319e-03  -8.56088005e-03  -7.01055263e-03   9.21223156e-04\n",
    "  -1.40779296e-03   7.28034138e-04  -5.37452855e-05  -5.59312440e-03\n",
    "  -5.34447205e-03   6.72926288e-03  -7.75971334e-03  -1.84216995e-02\n",
    "  -2.45760235e-02  -4.69203890e-02  -3.32101138e-02  -2.23488248e-02\n",
    "  -8.95088092e-03  -5.70976535e-03  -5.02796410e-03  -1.97450375e-03\n",
    "   0.00000000e+00   0.00000000e+00   0.00000000e+00   0.00000000e+00]</td> \n",
    "  </tr>\n",
    "</table>"
   ]
  },
  {
   "cell_type": "markdown",
   "metadata": {},
   "source": [
    "### 2-3. Linear-Activateion Forward\n",
    "\n",
    "이번 예제에서는 2가지 종류의 Activation function을 사용합니다.\n",
    "\n",
    "\n",
    "- **Sigmoid**: $\\sigma(Z) = \\sigma(W A + b) = \\frac{1}{ 1 + e^{-(W A + b)}}$. `sigmoid` 함수는 **2개**의 return 값을 갖습니다. : activation value \"`a`\", \"\"`Z`\"를 포함하고 있는 `cache`\" (Backpropagation때, 이를 사용합니다). 사용법은 다음과 같습니다: \n",
    "``` python\n",
    "A, activation_cache = sigmoid(Z)\n",
    "```\n",
    "\n",
    "<img src=\"images/sigmoid.png\" style=\"width:650px;height:300px;\">\n",
    "<caption><center> <u>Figure 2</u>: Sigmoid.</center></caption>\n",
    "\n",
    "- **ReLU**: 수학적 공식은 다음과 같습니다. $A = ReLU(Z) = max(0, Z)$. `relu` 함수는 **2개**의 return값을 갖습니다. : the activation value \"`A`\", `Z`를 포함하고 있는\"`cache`\"\"\" (Backpropagation때, 이를 사용합니다). 사용법은 다음과 같습니다:\n",
    "``` python\n",
    "A, activation_cache = relu(Z)\n",
    "```\n",
    "<img src=\"images/relu.jpeg\" style=\"width:650px;height:300px;\">\n",
    "<caption><center> <u>Figure 3</u>: ReLU.</center></caption>\n",
    "\n",
    "- **Derivative of Sigmoid**: <br/> $g'(Z) = \\frac{ d }{ dz }\\frac{ 1 }{ 1+e^{-z} } = \\frac{1}{(1+e^-z)^2}(e^{-z}) = \\frac{1}{1+e^{-z}}(1-\\frac{1}{1+e^{-z}}) = g(z)(1-g(z))$<br/><br/>\n",
    "\n",
    "- **Derivative of ReLU**: <br/> $g'(Z) = \\max(0, Z)$"
   ]
  },
  {
   "cell_type": "code",
   "execution_count": 75,
   "metadata": {
    "collapsed": true
   },
   "outputs": [],
   "source": [
    "def derivative_sigmoid(Z):\n",
    "    return (1/(1+np.exp(-Z)) * (1-1/(1+np.exp(-Z))))\n",
    "\n",
    "def derivative_relu(Z):\n",
    "    pass\n",
    "\n",
    "def sigmoid(Z):\n",
    "    return 1/(1+np.exp(-Z)), derivative_sigmoid(Z)\n",
    "\n",
    "def relu(Z):\n",
    "    return np.maximum(0, Z), np.maximum(0, Z)"
   ]
  },
  {
   "cell_type": "code",
   "execution_count": 77,
   "metadata": {},
   "outputs": [
    {
     "data": {
      "text/plain": [
       "<matplotlib.text.Text at 0x7f77d695b748>"
      ]
     },
     "execution_count": 77,
     "metadata": {},
     "output_type": "execute_result"
    },
    {
     "data": {
      "image/png": "[encoded data removed]",
      "text/plain": [
       "<matplotlib.figure.Figure at 0x7f77cef3b898>"
      ]
     },
     "metadata": {},
     "output_type": "display_data"
    }
   ],
   "source": [
    "tmp = [round(i*0.01, 5) for i in range(-1000,1000)]\n",
    "x = np.asarray(tmp)\n",
    "\n",
    "\n",
    "f, axarr = plt.subplots(4, sharex=True)\n",
    "f.set_figheight(10)\n",
    "f.set_figwidth(10)\n",
    "sig, derivate_sig = sigmoid(x)\n",
    "ReLU, derivate_relu = relu(x)\n",
    "axarr[0].plot(x, sig)\n",
    "axarr[0].set_title(\"Sigmoid\")\n",
    "axarr[1].plot(x, derivate_sig)\n",
    "axarr[1].set_title(\"derivative Sigmoid\")\n",
    "axarr[2].plot(x, ReLU)\n",
    "axarr[2].set_title(\"ReLU\")\n",
    "axarr[3].plot(x, derivate_relu)\n",
    "axarr[3].set_title(\"derivative ReLU\")"
   ]
  },
  {
   "cell_type": "code",
   "execution_count": 78,
   "metadata": {
    "collapsed": true
   },
   "outputs": [],
   "source": [
    "def linear_activation_forward(A_prev, W, b, activation):\n",
    "    \"\"\"\n",
    "    Implement the forward propagation for the LINEAR->ACTIVATION layer\n",
    "\n",
    "    Arguments:\n",
    "    A_prev -- activations from previous layer (or input data): (size of previous layer, number of examples)\n",
    "    W -- weights matrix: numpy array of shape (size of current layer, size of previous layer)\n",
    "    b -- bias vector, numpy array of shape (size of the current layer, 1)\n",
    "    activation -- the activation to be used in this layer, stored as a text string: \"sigmoid\" or \"relu\"\n",
    "\n",
    "    Returns:\n",
    "    A -- the output of the activation function, also called the post-activation value \n",
    "    cache -- a python dictionary containing \"linear_cache\" and \"activation_cache\";\n",
    "             stored for computing the backward pass efficiently\n",
    "    \"\"\"\n",
    "    \n",
    "    if activation == \"sigmoid\":\n",
    "        # Inputs: \"A_prev, W, b\". Outputs: \"A, activation_cache\".\n",
    "        Z, linear_cache = linear_forward(A_prev, W, b)\n",
    "        A, activation_cache = sigmoid(Z)\n",
    "    \n",
    "    elif activation == \"relu\":\n",
    "        # Inputs: \"A_prev, W, b\". Outputs: \"A, activation_cache\".\n",
    "        Z, linear_cache = linear_forward(A_prev, W, b)\n",
    "        A, activation_cache = relu(Z)\n",
    "    \n",
    "    assert (A.shape == (W.shape[0], A_prev.shape[1]))\n",
    "    cache = (linear_cache, activation_cache)\n",
    "\n",
    "    return A, cache"
   ]
  },
  {
   "cell_type": "code",
   "execution_count": 80,
   "metadata": {},
   "outputs": [
    {
     "name": "stdout",
     "output_type": "stream",
     "text": [
      "X's dimensions : (28, 28)\n",
      "\n",
      "key of parameters : dict_keys(['b2', 'W1', 'b1', 'W2'])\n",
      "\n",
      "With sigmoid: A[0] = [ 0.5         0.5         0.5         0.5         0.4987626   0.49785979\n",
      "  0.49824737  0.50023031  0.49964805  0.50018201  0.49998656  0.49860172\n",
      "  0.49866389  0.50168231  0.49806008  0.49539471  0.4938563   0.48827205\n",
      "  0.49169823  0.49441303  0.49776229  0.49857256  0.49874301  0.49950637\n",
      "  0.5         0.5         0.5         0.5       ]\n",
      "With ReLU: A[0] = [ 0.          0.          0.          0.          0.          0.          0.\n",
      "  0.00092122  0.          0.00072803  0.          0.          0.\n",
      "  0.00672926  0.          0.          0.          0.          0.          0.\n",
      "  0.          0.          0.          0.          0.          0.          0.\n",
      "  0.        ]\n"
     ]
    }
   ],
   "source": [
    "X = train_img[0]\n",
    "print(\"X's dimensions : {}\".format(X.shape), end=\"\\n\\n\")\n",
    "\n",
    "parameters = initialize_parameters_deep([28,28,1])\n",
    "print(\"key of parameters : {}\".format(parameters.keys()), end=\"\\n\\n\")\n",
    "A_prev, W, b = X, parameters[\"W1\"], parameters[\"b1\"]\n",
    "\n",
    "A, linear_activation_cache = linear_activation_forward(A_prev, W, b, activation=\"sigmoid\")\n",
    "print(\"With sigmoid: A[0] = \" + str(A[0]))\n",
    "\n",
    "A, linear_activation_cache = linear_activation_forward(A_prev, W, b, activation=\"relu\")\n",
    "print(\"With ReLU: A[0] = \" + str(A[0]))"
   ]
  },
  {
   "cell_type": "markdown",
   "metadata": {},
   "source": [
    "**Expected output**:\n",
    "       \n",
    "<table style=\"width:100%\">\n",
    "  <tr>\n",
    "    <td> **With sigmoid: A[0] ** </td>\n",
    "    <td > [ 0.5         0.5         0.5         0.5         0.4987626   0.49785979\n",
    "  0.49824737  0.50023031  0.49964805  0.50018201  0.49998656  0.49860172\n",
    "  0.49866389  0.50168231  0.49806008  0.49539471  0.4938563   0.48827205\n",
    "  0.49169823  0.49441303  0.49776229  0.49857256  0.49874301  0.49950637\n",
    "  0.5         0.5         0.5         0.5       ]</td> \n",
    "  </tr>\n",
    "  <tr>\n",
    "    <td> **With ReLU: A[0] ** </td>\n",
    "    <td > [ 0.          0.          0.          0.          0.          0.          0.\n",
    "  0.00092122  0.          0.00072803  0.          0.          0.\n",
    "  0.00672926  0.          0.          0.          0.          0.          0.\n",
    "  0.          0.          0.          0.          0.          0.          0.\n",
    "  0.        ]</td> \n",
    "  </tr>\n",
    "</table>"
   ]
  },
  {
   "cell_type": "markdown",
   "metadata": {},
   "source": [
    "### 2-4. L-Layer Model\n",
    "\n",
    "이전까지 간단한 Forward Operation이 어떻게 구성되는지 확인하였습니다.<br/>\n",
    "이러한 Forward Operation을 여러번 진행하게되면, 이것이 Deep Neural Network가 됩니다.<br/>\n",
    "\n",
    "이번 코드에서는 SIGMOID ACTIVATION을 이용한 Muli Layer Forward Operation에 대해서 알아보겠습니다.\n",
    "\n",
    "<img src=\"images/model_architecture_kiank.png\" style=\"width:650px;height:300px;\">\n",
    "<caption><center> <u>Figure 4</u>: L-Layer Model.</center></caption>\n",
    "\n",
    "**Note**: 이번 코드에서 다시 한번 Linear-Activation 수식을 언급하겠습니다.<br/>\n",
    "$A^{[L]} = \\sigma(Z^{[L]}) = \\sigma(W^{[L]} A^{[L-1]} + b^{[L]})$. (마지막 출력의 경우 출력값의 표현을 `Yhat`이라고 합니다, i.e., 수식적으로 표현하면 다음과 같습니다. $\\hat{Y}$.)"
   ]
  },
  {
   "cell_type": "code",
   "execution_count": 81,
   "metadata": {
    "collapsed": true
   },
   "outputs": [],
   "source": [
    "def L_model_forward(X, parameters):\n",
    "    \"\"\"\n",
    "    Implement forward propagation for the [LINEAR->RELU]*(L-1)->LINEAR->SIGMOID computation\n",
    "    \n",
    "    Arguments:\n",
    "    X -- data, numpy array of shape (input size, number of examples)\n",
    "    parameters -- output of initialize_parameters_deep()\n",
    "    \n",
    "    Returns:\n",
    "    AL -- last post-activation value\n",
    "    caches -- list of caches containing:\n",
    "                every cache of linear_relu_forward() (there are L-1 of them, indexed from 0 to L-2)\n",
    "                the cache of linear_sigmoid_forward() (there is one, indexed L-1)\n",
    "    \"\"\"\n",
    "\n",
    "    caches = []\n",
    "    A = X\n",
    "    L = len(parameters) // 2                  # number of layers in the neural network\n",
    "    \n",
    "    # Implement [LINEAR -> RELU]*(L-1). Add \"cache\" to the \"caches\" list.\n",
    "    for l in range(1, L):\n",
    "        A_prev = A \n",
    "        A, cache = linear_activation_forward(A_prev, \n",
    "                                             parameters['W' + str(l)], \n",
    "                                             parameters['b' + str(l)], \n",
    "                                             activation='relu')\n",
    "        caches.append(cache)\n",
    "    \n",
    "    # Implement LINEAR -> SIGMOID. Add \"cache\" to the \"caches\" list.\n",
    "    AL, cache = linear_activation_forward(A, \n",
    "                                          parameters['W' + str(L)], \n",
    "                                          parameters['b' + str(L)], \n",
    "                                          activation='sigmoid')\n",
    "    caches.append(cache)\n",
    "    \n",
    "    assert(AL.shape == (1, X.shape[1]))\n",
    "            \n",
    "    return AL, caches"
   ]
  },
  {
   "cell_type": "code",
   "execution_count": 82,
   "metadata": {},
   "outputs": [
    {
     "name": "stdout",
     "output_type": "stream",
     "text": [
      "AL = [[ 0.5         0.5         0.5         0.5         0.50000488  0.49999259\n",
      "   0.49999292  0.50006658  0.50019038  0.50018837  0.5000768   0.50000425\n",
      "   0.50000441  0.49996328  0.49990328  0.49989251  0.49988565  0.50000674\n",
      "   0.49992422  0.49995059  0.49978186  0.49970537  0.4997401   0.49989355\n",
      "   0.5         0.5         0.5         0.5       ]]\n",
      "Length of caches list = 2\n"
     ]
    }
   ],
   "source": [
    "X, parameters = train_img[0], initialize_parameters_deep([28,28,1])\n",
    "AL, caches = L_model_forward(X, parameters)\n",
    "print(\"AL = \" + str(AL))\n",
    "print(\"Length of caches list = \" + str(len(caches)))"
   ]
  },
  {
   "cell_type": "markdown",
   "metadata": {},
   "source": [
    "<table style=\"width:100%\">\n",
    "  <tr>\n",
    "    <td> **AL** </td>\n",
    "    <td > [[ 0.5         0.5         0.5         0.5         0.50000488  0.49999259\n",
    "   0.49999292  0.50006658  0.50019038  0.50018837  0.5000768   0.50000425\n",
    "   0.50000441  0.49996328  0.49990328  0.49989251  0.49988565  0.50000674\n",
    "   0.49992422  0.49995059  0.49978186  0.49970537  0.4997401   0.49989355\n",
    "   0.5         0.5         0.5         0.5       ]]</td> \n",
    "  </tr>\n",
    "  <tr>\n",
    "    <td> **Length of caches list ** </td>\n",
    "    <td > 2</td> \n",
    "  </tr>\n",
    "</table>"
   ]
  },
  {
   "cell_type": "markdown",
   "metadata": {},
   "source": [
    "## 3 - Cost Function\n",
    "\n",
    "지금까지 Muli Layer Forward Operation을 구현하였습니다.\n",
    "\n",
    "이번엔 Forward Operation의 결과와 label 값을 통해서 나온 결과를 비교해서 비용함수를 정의하도록 하겠습니다.\n",
    "\n",
    "**Exercise**: 여기서는 cross-entropy cost $J$를 계산합니다, 수식은 다음과 같습니다.: $$-\\frac{1}{m} \\sum\\limits_{i = 1}^{m} (y^{(i)}\\log\\left(a^{[L] (i)}\\right) + (1-y^{(i)})\\log\\left(1- a^{[L](i)}\\right)) \\tag{7}$$\n",
    "\n",
    "**Why Cross-entropy Cost?**: MSE(Mean Squared Error)의 경우네는 틀린 샘플에 대해서 더 집중하는 특징을 갖습니다. 틀린 것과 맞은 것에 대해서 똑같이 집중해서 Loss를 전파해줘야하는데, 틀린 부분에 대해서만 Loss를 전파하기 때문에 학습이 덜 되는 경향이 있습니다\n",
    "\n",
    "만약에 네트워크가 다음과 같은 2가지 결과를 주었다고 가정해 보겠습니다.\n",
    "\n",
    "**1-th network**\n",
    "<table style=\"width:50%\", title=\"1-th network\">\n",
    "  <tr>\n",
    "    <td> **계산결과** </td>\n",
    "    <td> **라벨(A/B/C)** </td>\n",
    "    <td> **Correct?** </td>\n",
    "  </tr>\n",
    "  <tr>\n",
    "    <td> 0.3  0.3  0.4 </td>\n",
    "    <td > 0  0  1 (A) </td> \n",
    "    <td > yes </td> \n",
    "  </tr>\n",
    "  <tr>\n",
    "    <td> 0.3  0.4  0.3 </td>\n",
    "    <td > 0  1  0 (B) </td> \n",
    "    <td > yes </td> \n",
    "  </tr>\n",
    "  <tr>\n",
    "    <td> 0.1  0.2  0.7 </td>\n",
    "    <td > 1  0  0 (C) </td> \n",
    "    <td > no </td> \n",
    "  </tr>\n",
    "</table>\n",
    "**2-th network**\n",
    "<table style=\"width:50%\", title=\"2-th network\">\n",
    "  <tr>\n",
    "    <td> **계산결과** </td>\n",
    "    <td> **라벨(A/B/C)** </td>\n",
    "    <td> **Correct?** </td>\n",
    "  </tr>\n",
    "  <tr>\n",
    "    <td> 0.1  0.2  0.7 </td>\n",
    "    <td > 0  0  1 (A) </td> \n",
    "    <td > yes </td> \n",
    "  </tr>\n",
    "  <tr>\n",
    "    <td> 0.1  0.7  0.2 </td>\n",
    "    <td > 0  1  0 (B) </td> \n",
    "    <td > yes </td> \n",
    "  </tr>\n",
    "  <tr>\n",
    "    <td> 0.3  0.4  0.3 </td>\n",
    "    <td > 1  0  0 (C) </td> \n",
    "    <td > no </td> \n",
    "  </tr>\n",
    "</table>\n",
    "\n",
    "\n",
    "\n",
    "위 결과에 대해서 오차를 계산해보겠습니다.\n",
    "\n",
    "**1. 분류 오차**\n",
    "- *1-th network*:\n",
    " - 분류오차 -> $$\\frac{1}{3} = 0.33$$ (3개의 샘플 중에 1개가 라벨과 일치하지 않으므로)\n",
    " - 분류 정확도 -> $$\\frac{2}{3} = 0.67$$\n",
    "<br/><br/>\n",
    "\n",
    "- *2-th network*:\n",
    " - 분류오차 -> $$\\frac{1}{3} = 0.33$$ (3개의 샘플 중에 1개가 라벨과 일치하지 않으므로)\n",
    " - 분류 정확도 -> $$\\frac{2}{3} = 0.67$$\n",
    "\n",
    "두 오차에 대해서 비교해보면, 결과는 같지만, 2-th 네트워크의 첫 두 샘플은 1-th 네트워크보다 조금 더 확실히 맞추었고, 세번째 샘플은 아깝게 틀렸습니다.\n",
    "\n",
    "이러한 결과를 보았을 때, 단순 분류 오차의 계산은 틀린 개수에 대한 결과만 줄 뿐 label과 비교해서 얼마나 많이 틀렸는지 얼마나 정확하게 맞았는지 그 정도에 대한 값을 제공하지 않습니다\n",
    "\n",
    "**2. MSE(Mean Squared Error)**\n",
    "\n",
    "$MSE = \\frac{1}{n}\\sum\\limits_{i=1}^{n}{(\\hat{Y_{i}} - Y_{i})^{2}}$\n",
    "\n",
    "<br/>\n",
    "- *1-th network*:\n",
    " - 분류오차 -> $(0.3-0)^{2} + (0.3-0)^{2} + (0.4-1)^{2} = 0.54$ (나머지 2개의 샘플에 대해서는 생략..)\n",
    " - 분류 정확도 -> $\\frac{(0.54 + 0.54 + 1.34)}{3} = 0.81$\n",
    "<br/><br/>\n",
    "\n",
    "- *2-th network*:\n",
    " - 분류오차 -> (생략...)\n",
    " - 분류 정확도 -> $\\frac{(0.14 + 0.14 + 0.74)}{3} = 0.34$\n",
    "\n",
    "**3. Cross-entropy Error**\n",
    "\n",
    "$-\\frac{1}{m}\\sum\\limits_{i = 1}^{m}(\\hat{Y_{i}}\\log\\left(Y_{i}\\right) + (1-\\hat{Y_{i}})\\log\\left(1- Y_{i}\\right))$\n",
    "\n",
    "<br/>\n",
    "- *1-th network*:\n",
    " - 분류오차 -> $(0.3-0)^{2} + (0.3-0)^{2} + (0.4-1)^{2} = 0.54$ (나머지 2개의 샘플에 대해서는 생략..)\n",
    " - 분류 정확도 -> $\\frac{(0.54 + 0.54 + 1.34)}{3} = 0.81$\n",
    "<br/><br/>\n",
    "\n",
    "- *2-th network*:\n",
    " - 분류오차 -> (생략...)\n",
    " - 분류 정확도 -> $\\frac{(0.14 + 0.14 + 0.74)}{3} = 0.34$\n"
   ]
  },
  {
   "cell_type": "code",
   "execution_count": null,
   "metadata": {
    "collapsed": true
   },
   "outputs": [],
   "source": []
  },
  {
   "cell_type": "code",
   "execution_count": null,
   "metadata": {
    "collapsed": true
   },
   "outputs": [],
   "source": []
  }
 ],
 "metadata": {
  "kernelspec": {
   "display_name": "Python 3",
   "language": "python",
   "name": "python3"
  },
  "language_info": {
   "codemirror_mode": {
    "name": "ipython",
    "version": 3
   },
   "file_extension": ".py",
   "mimetype": "text/x-python",
   "name": "python",
   "nbconvert_exporter": "python",
   "pygments_lexer": "ipython3",
   "version": "3.5.2"
  }
 },
 "nbformat": 4,
 "nbformat_minor": 2
}

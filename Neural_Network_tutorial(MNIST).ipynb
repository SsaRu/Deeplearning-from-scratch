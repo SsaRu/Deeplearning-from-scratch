{
 "cells": [
  {
   "cell_type": "markdown",
   "metadata": {},
   "source": [
    "### 1 - 1 MNIST Data Load \n",
    "\n",
    "<br/>\n",
    "**Note**: 일반적으로 이미지 데이터를 읽어들이게되면 numpy의 dtype(\"uint8\")으로 저장이 됩니다. uint8은 0~255 사이의 값으로 표현되며, 이를 \"0\"과 \"1\"사이의 데이터로 정규화하기 위해서 255로 나누어주는 과정을 거칩니다.\n",
    "<br/><br/>"
   ]
  },
  {
   "cell_type": "code",
   "execution_count": 1,
   "metadata": {},
   "outputs": [
    {
     "name": "stdout",
     "output_type": "stream",
     "text": [
      "Populating the interactive namespace from numpy and matplotlib\n"
     ]
    }
   ],
   "source": [
    "import numpy as np\n",
    "import gzip\n",
    "import struct\n",
    "import matplotlib.pyplot as plt\n",
    "import sys\n",
    "%pylab inline\n",
    "pylab.rcParams['figure.figsize'] = (20, 20)"
   ]
  },
  {
   "cell_type": "code",
   "execution_count": 2,
   "metadata": {},
   "outputs": [],
   "source": [
    "# MNIST Data Load\n",
    "def read_data(label_path, image_path):\n",
    "    with gzip.open(label_path) as flbl:\n",
    "        _, _ = struct.unpack(\">II\", flbl.read(8))\n",
    "        label = np.fromstring(flbl.read(), dtype=np.int8)\n",
    "    with gzip.open(image_path, 'rb') as fimg:\n",
    "        _, _, rows, cols = struct.unpack(\">IIII\", fimg.read(16))\n",
    "        image = np.fromstring(fimg.read(), dtype=np.uint8).reshape(len(label), rows, cols)\n",
    "    return (label, image)"
   ]
  },
  {
   "cell_type": "code",
   "execution_count": 3,
   "metadata": {},
   "outputs": [],
   "source": [
    "path = \"data/\"\n",
    "(train_label, train_img) = read_data(path+'train-labels-idx1-ubyte.gz', path+'train-images-idx3-ubyte.gz')\n",
    "(val_label, val_img) = read_data(path+'t10k-labels-idx1-ubyte.gz', path+'t10k-images-idx3-ubyte.gz')"
   ]
  },
  {
   "cell_type": "code",
   "execution_count": 4,
   "metadata": {},
   "outputs": [
    {
     "data": {
      "image/png": "[encoded data removed]",
      "text/plain": [
       "<matplotlib.figure.Figure at 0x7f23c30d2b70>"
      ]
     },
     "metadata": {},
     "output_type": "display_data"
    }
   ],
   "source": [
    "for i in range(10):\n",
    "    plt.subplot(1, 10, i+1)\n",
    "    plt.imshow(train_img[i], cmap='Greys_r')\n",
    "    plt.axis('off')\n",
    "\n",
    "plt.show()\n",
    "\n",
    "train_label = train_label.astype(np.int64)\n",
    "train_img = train_img.astype(np.float32) / 255\n",
    "val_label = val_label.astype(np.int64)\n",
    "val_img = val_img.astype(np.float32) / 255"
   ]
  },
  {
   "cell_type": "markdown",
   "metadata": {},
   "source": [
    "## 2 - Forward Operation\n",
    "\n",
    "<br/>\n",
    "\n",
    "1. 먼저 입력 데이터의 차원에 맞게, 가중치 행렬을 생성하고 초기화합니다.\n",
    "2. 초기화된 Weights와 bias를 입력 데이터를 이용해서 $Y = WX + b$을 구합니다.\n",
    "3. ACTIVATION (Sigmoid, ReLU etc)를 이용해서 최종 출력을 얻습니다.\n",
    "\n",
    "\n",
    "<img src=\"images/perceptron.png\" style=\"width:650px;height:300px;\">\n",
    "<caption><center> <u>Figure 1</u>: Forward Operation. <br> The model can be summarized as: ***[INPUT -> LINEAR -> ACTIVATION]***</center></caption>\n",
    "\n",
    "<br/>\n",
    "위의 그림을 수식으로 일반화하면, 아래와 같습니다\n",
    "<br/><br/>\n",
    "\n",
    "입력데이터인 MNIST 데이터의 모양은 $(784, 128)$입니다. `784`는 총 픽셀의 개수이고, `128`은 한번에 학습시킬 이미지의 갯수가 `128`개라는 의미입니다.\n",
    "\n",
    "<br/><br/>\n",
    "\n",
    "<table style=\"width:100%\">\n",
    "<br/>\n",
    "\n",
    "`Python`에서 `Numpy`를 사용해서 $W X + b$를 계산할 때, $b$는 자동으로 차원이 맞춰지는 broadcasting과정을 거칩니다.\n",
    "\n",
    "아래는 broadcasting이라는 과정을 보여줍니다 : \n",
    "\n",
    "\n",
    "$$ W = \\begin{bmatrix}\n",
    "    j  & k  & l\\\\\n",
    "    m  & n & o \\\\\n",
    "    p  & q & r \n",
    "\\end{bmatrix}\\;\\;\\; X = \\begin{bmatrix}\n",
    "    a  & b  & c\\\\\n",
    "    d  & e & f \\\\\n",
    "    g  & h & i \n",
    "\\end{bmatrix} \\;\\;\\; b =\\begin{bmatrix}\n",
    "    s  \\\\\n",
    "    t  \\\\\n",
    "    u\n",
    "\\end{bmatrix}\\tag{2}$$\n",
    "\n",
    "<br/><br/><br/>\n",
    "위와 같이 계산하면 $WX + b$ 아래와 같은 식이 됩니다 : \n",
    "\n",
    "$$ WX + b = \\begin{bmatrix}\n",
    "    (ja + kd + lg) + s  & (jb + ke + lh) + s  & (jc + kf + li)+ s\\\\\n",
    "    (ma + nd + og) + t & (mb + ne + oh) + t & (mc + nf + oi) + t\\\\\n",
    "    (pa + qd + rg) + u & (pb + qe + rh) + u & (pc + qf + ri)+ u\n",
    "\\end{bmatrix}\\tag{3}  $$"
   ]
  },
  {
   "cell_type": "markdown",
   "metadata": {},
   "source": [
    "### 2-1. Initialization\n",
    "\n",
    "- 데이터 차원에 맞게 가중치 행렬을 생성하고 초기화합니다.\n",
    "- 일반적으로 weights는 난수로, bias는 0으로 초기화합니다."
   ]
  },
  {
   "cell_type": "code",
   "execution_count": 5,
   "metadata": {},
   "outputs": [],
   "source": [
    "def init_params(input_dims, output_dims):\n",
    "    np.random.seed(1)\n",
    "\n",
    "    W = np.random.randn(output_dims, input_dims) * 0.1\n",
    "    b = np.zeros(shape=(output_dims, 1))\n",
    "\n",
    "    assert (W.shape == (output_dims, input_dims))\n",
    "    assert (b.shape == (output_dims, 1))\n",
    "\n",
    "    parameters = {\"W\": W,\n",
    "                  \"b\": b,\n",
    "                  }\n",
    "\n",
    "    return parameters"
   ]
  },
  {
   "cell_type": "code",
   "execution_count": 6,
   "metadata": {},
   "outputs": [
    {
     "name": "stdout",
     "output_type": "stream",
     "text": [
      "W1 = [[ 0.16243454 -0.06117564 -0.05281718 -0.10729686]]\n",
      "b1 = [[ 0.  0.]]\n"
     ]
    }
   ],
   "source": [
    "parameters = init_params(2,2)\n",
    "print(\"W1 = \" + str(parameters[\"W\"].reshape(1,4)))\n",
    "print(\"b1 = \" + str(parameters[\"b\"].reshape(1,2)))"
   ]
  },
  {
   "cell_type": "markdown",
   "metadata": {},
   "source": [
    "**Expected output**:\n",
    "       \n",
    "<table style=\"width:80%\">\n",
    "  <tr>\n",
    "    <td> **W1** </td>\n",
    "    <td> [[ 0.16243454 -0.06117564]\n",
    " [-0.05281718 -0.10729686]] </td> \n",
    "  </tr>\n",
    "\n",
    "  <tr>\n",
    "    <td> **b1**</td>\n",
    "    <td>[[ 0.]\n",
    " [ 0.]]</td> \n",
    "  </tr>\n",
    "</table>\n",
    "<br/><br/><br/>"
   ]
  },
  {
   "cell_type": "markdown",
   "metadata": {},
   "source": [
    "### 2-2. Linear Forward Module\n",
    "\n",
    "Linear Forward Module은 아래와 같은 수식으로 일반화되어 계산됩니다.\n",
    "\n",
    "$$Z^{[l]} = W^{[l]}A^{[l-1]} +b^{[l]}\\tag{4}$$\n",
    "\n",
    "여기서 $A^{[0]} = X$. <br/><br/>\n",
    "즉, $A^{[l-1]}$은 이전 레이어에서 온 출력값이고, $A^{[0]}$. 이전 레이어의 처음값은 입력 데이터라는 의미입니다.\n",
    "<br/>\n",
    "<br/>"
   ]
  },
  {
   "cell_type": "code",
   "execution_count": 7,
   "metadata": {},
   "outputs": [],
   "source": [
    "def linear_forward(A, W, b):\n",
    "    Z = np.dot(W, A) + b\n",
    "    assert (Z.shape == (W.shape[0], A.shape[1]))\n",
    "    cache = (A, W, b)\n",
    "\n",
    "    return Z, cache"
   ]
  },
  {
   "cell_type": "code",
   "execution_count": 8,
   "metadata": {},
   "outputs": [
    {
     "name": "stdout",
     "output_type": "stream",
     "text": [
      "key of parameters : dict_keys(['b', 'W'])\n",
      "X's dimensions : (1, 784), W shape : (10, 784), b shape : (10, 1)\n",
      "Matrix Multiply : (10, 784) x (784, 1) = (10,1)\n",
      "Z Shape : (10, 1)\n",
      "\n",
      "\n",
      "Z = [[ 0.01744896 -0.60502108  0.76272153  0.29953858 -1.3981822   0.48902655\n",
      "   0.70858887 -0.29736435 -0.08814531  0.32212843]]\n"
     ]
    }
   ],
   "source": [
    "# Input Data Reshape\n",
    "X = train_img[0].reshape(1,784)\n",
    "# Init Params\n",
    "parameters = init_params(784,10)\n",
    "W, b = parameters[\"W\"], parameters[\"b\"]\n",
    "\n",
    "print(\"key of parameters : {}\".format(parameters.keys()))\n",
    "print(\"X's dimensions : {}, W shape : {}, b shape : {}\".format(X.shape, W.shape, b.shape))\n",
    "print(\"Matrix Multiply : {} x {} = ({},{})\".format(W.shape, X.T.shape, W.shape[0], X.shape[0]))\n",
    "Z, _ = linear_forward(X.T, W, b)\n",
    "print(\"Z Shape : {}\".format(Z.shape), end=\"\\n\\n\\n\")\n",
    "\n",
    "print(\"Z = \" + str(Z.reshape(1,10)))"
   ]
  },
  {
   "cell_type": "markdown",
   "metadata": {},
   "source": [
    "**Expected output**:\n",
    "       \n",
    "<table style=\"width:100%\">\n",
    "  <tr>\n",
    "    <td> **Z** </td>\n",
    "    <td>[[ 0.01744896 -0.60502108  0.76272153  0.29953858 -1.3981822   0.48902655\n",
    "   0.70858887 -0.29736435 -0.08814531  0.32212843]]</td> \n",
    "  </tr>\n",
    "</table>\n",
    "<br/><br/><br/>"
   ]
  },
  {
   "cell_type": "markdown",
   "metadata": {},
   "source": [
    "### 2-3. Linear-Activateion Forward\n",
    "\n",
    "이번 예제에서는 2가지 종류의 Activation function을 사용합니다.\n",
    "\n",
    "\n",
    "- **Sigmoid**: $\\sigma(Z) = \\sigma(W A + b) = \\frac{1}{ 1 + e^{-(W A + b)}}$. <br/><br/> `sigmoid` 함수는 **2개**의 return 값을 갖습니다 : activation value \"`a`\", \"`Z`\"를 포함하고 있는 \"`cache`\" (Backpropagation때, 이를 사용합니다). <br/><br/>사용법은 다음과 같습니다: \n",
    "``` python\n",
    "A, activation_cache = sigmoid(Z)\n",
    "```\n",
    "\n",
    "<img src=\"images/sigmoid.png\" style=\"width:650px;height:300px;\">\n",
    "<caption><center> <u>Figure 2</u>: Sigmoid.</center></caption>\n",
    "\n",
    "- **ReLU**: $A = ReLU(Z) = max(0, Z)$.<br/><br/> `relu` 함수는 **2개**의 return값을 갖습니다.: the activation value \"`A`\", \"`Z`\"를 포함하고 있는\"`cache`\" (Backpropagation때, 이를 사용합니다). <br/><br/>사용법은 다음과 같습니다:\n",
    "``` python\n",
    "A, activation_cache = relu(Z)\n",
    "```\n",
    "<img src=\"images/relu.jpeg\" style=\"width:650px;height:300px;\">\n",
    "<caption><center> <u>Figure 3</u>: ReLU.</center></caption>\n",
    "\n",
    "- **Sigmoid의 미분**: <br/> $g'(Z) = \\frac{ d }{ dz }\\frac{ 1 }{ 1+e^{-z} } = \\frac{1}{(1+e^-z)^2}(e^{-z}) = \\frac{1}{1+e^{-z}}(1-\\frac{1}{1+e^{-z}}) = g(z)(1-g(z))$<br/><br/>\n",
    "\n",
    "- **ReLU의 미분**: <br/> $g'(Z) = \\max(0, Z)$"
   ]
  },
  {
   "cell_type": "code",
   "execution_count": 9,
   "metadata": {},
   "outputs": [],
   "source": [
    "def derivative_sigmoid(Z):\n",
    "    return (1/(1+np.exp(-Z)) * (1-1/(1+np.exp(-Z))))\n",
    "\n",
    "def derivative_relu(Z):\n",
    "    return 1. * (Z > 0)\n",
    "\n",
    "def sigmoid(Z):\n",
    "    # Prevent numpy.exp Overflow Error\n",
    "    Z = Z.astype(\"float128\")\n",
    "    return 1/(1+np.exp(-Z)), derivative_sigmoid(Z)\n",
    "\n",
    "def relu(Z):\n",
    "    return np.maximum(0, Z), derivative_relu(Z)"
   ]
  },
  {
   "cell_type": "code",
   "execution_count": 10,
   "metadata": {},
   "outputs": [
    {
     "data": {
      "text/plain": [
       "Text(0.5,1,'derivative ReLU')"
      ]
     },
     "execution_count": 10,
     "metadata": {},
     "output_type": "execute_result"
    },
    {
     "data": {
      "image/png": "[encoded data removed]",
      "text/plain": [
       "<matplotlib.figure.Figure at 0x7f23bff6d438>"
      ]
     },
     "metadata": {},
     "output_type": "display_data"
    }
   ],
   "source": [
    "tmp = [round(i*0.01, 5) for i in range(-1000,1000)]\n",
    "x = np.asarray(tmp)\n",
    "\n",
    "f, axarr = plt.subplots(4, sharex=True)\n",
    "f.set_figheight(10)\n",
    "f.set_figwidth(10)\n",
    "sig, derivate_sig = sigmoid(x)\n",
    "ReLU, derivate_relu = relu(x)\n",
    "axarr[0].plot(x, sig)\n",
    "axarr[0].set_title(\"Sigmoid\")\n",
    "axarr[1].plot(x, derivate_sig)\n",
    "axarr[1].set_title(\"derivative Sigmoid\")\n",
    "axarr[2].plot(x, ReLU)\n",
    "axarr[2].set_title(\"ReLU\")\n",
    "axarr[3].plot(x, derivate_relu)\n",
    "axarr[3].set_title(\"derivative ReLU\")"
   ]
  },
  {
   "cell_type": "code",
   "execution_count": 11,
   "metadata": {},
   "outputs": [],
   "source": [
    "def linear_activation_forward(A_prev, W, b, activation):\n",
    "\n",
    "    Z, linear_cache = linear_forward(A_prev, W, b)\n",
    "    if activation == \"sigmoid\":\n",
    "        A, activation_cache = sigmoid(Z)\n",
    "\n",
    "    elif activation == \"relu\":\n",
    "        A, activation_cache = relu(Z)\n",
    "    \n",
    "    elif activation == \"softmax\":\n",
    "        A, activation_cache = softmax(Z)\n",
    "\n",
    "    assert (A.shape == (W.shape[0], A_prev.shape[1]))\n",
    "    cache = (linear_cache, activation_cache)\n",
    "\n",
    "    return A, cache"
   ]
  },
  {
   "cell_type": "code",
   "execution_count": 12,
   "metadata": {},
   "outputs": [
    {
     "name": "stdout",
     "output_type": "stream",
     "text": [
      "key of parameters : dict_keys(['b', 'W'])\n",
      "X's dimensions : (1, 784), W shape : (10, 784), b shape : (10, 1)\n",
      "Matrix Multiply : (10, 784) x (784, 1) = (10,1)\n",
      "A Shape : (10, 1)\n",
      "\n",
      "\n",
      "A = [[ 0.50436213  0.35319579  0.68194431  0.57432971  0.19810473  0.61987708\n",
      "   0.67008928  0.42620191  0.47797793  0.57984288]]\n"
     ]
    }
   ],
   "source": [
    "# Input Data Reshape\n",
    "X = train_img[0].reshape(1,784)\n",
    "# Init Params\n",
    "parameters = init_params(784,10)\n",
    "W, b = parameters[\"W\"], parameters[\"b\"]\n",
    "\n",
    "print(\"key of parameters : {}\".format(parameters.keys()))\n",
    "print(\"X's dimensions : {}, W shape : {}, b shape : {}\".format(X.shape, W.shape, b.shape))\n",
    "print(\"Matrix Multiply : {} x {} = ({},{})\".format(W.shape, X.T.shape, W.shape[0], X.shape[0]))\n",
    "A, _ = linear_activation_forward(X.T, W, b, \"sigmoid\")\n",
    "print(\"A Shape : {}\".format(A.shape), end=\"\\n\\n\\n\")\n",
    "\n",
    "print(\"A = \" + str(A.reshape(1,10)))"
   ]
  },
  {
   "cell_type": "markdown",
   "metadata": {},
   "source": [
    "**Expected output**:\n",
    "       \n",
    "<table style=\"width:100%\">\n",
    "  <tr>\n",
    "    <td> **With sigmoid: A ** </td>\n",
    "    <td > [[ 0.50436213  0.35319579  0.68194431  0.57432971  0.19810473  0.61987708\n",
    "   0.67008928  0.42620191  0.47797793  0.57984288]</td> \n",
    "  </tr>\n",
    "</table>"
   ]
  },
  {
   "cell_type": "markdown",
   "metadata": {},
   "source": [
    "## 3 - Cost Function\n",
    "\n",
    "지금까지 Muli Layer Forward Operation을 구현하였습니다.\n",
    "\n",
    "이번엔 Forward Operation의 결과와 label 값을 통해서 나온 결과를 비교해서 비용함수를 구현하도록 하겠습니다.\n",
    "\n",
    "**Exercise**: 여기서는 cross-entropy cost $J$를 계산합니다, 수식은 다음과 같습니다.: $$-\\frac{1}{m} \\sum\\limits_{i = 1}^{m} (y^{(i)}\\log\\left(a^{[L] (i)}\\right) + (1-y^{(i)})\\log\\left(1- a^{[L](i)}\\right)) \\tag{7}$$\n"
   ]
  },
  {
   "cell_type": "code",
   "execution_count": 13,
   "metadata": {},
   "outputs": [],
   "source": [
    "def compute_cost(AL, Y):\n",
    "    m = Y.shape[0]\n",
    "\n",
    "    # MSE Error\n",
    "    cost = (1 / m) * np.sum(np.square(Y-AL))\n",
    "    cost = np.squeeze(cost)\n",
    "    assert (cost.shape == ())\n",
    "\n",
    "    return cost"
   ]
  },
  {
   "cell_type": "code",
   "execution_count": 14,
   "metadata": {},
   "outputs": [
    {
     "name": "stdout",
     "output_type": "stream",
     "text": [
      "key of parameters : dict_keys(['b', 'W'])\n",
      "X's dimensions : (1, 784), W shape : (10, 784), b shape : (10, 1)\n",
      "Matrix Multiply : (10, 784) x (784, 1) = (10,1)\n",
      "A = [[ 0.50436213  0.35319579  0.68194431  0.57432971  0.19810473  0.61987708\n",
      "   0.67008928  0.42620191  0.47797793  0.57984288]]\n",
      "\n",
      "\n",
      "Cost : 0.25531183849673833\n"
     ]
    }
   ],
   "source": [
    "classes = 10\n",
    "\n",
    "# Input Data Reshape\n",
    "X = train_img[0].reshape(1,784)\n",
    "\n",
    "# Label Data\n",
    "label = np.array([int(i==int(train_label[0])) for i in range(classes)]).reshape(classes,1)\n",
    "\n",
    "# Init Params\n",
    "parameters = init_params(784,10)\n",
    "W, b = parameters[\"W\"], parameters[\"b\"]\n",
    "print(\"key of parameters : {}\".format(parameters.keys()))\n",
    "print(\"X's dimensions : {}, W shape : {}, b shape : {}\".format(X.shape, W.shape, b.shape))\n",
    "print(\"Matrix Multiply : {} x {} = ({},{})\".format(W.shape, X.T.shape, W.shape[0], X.shape[0]))\n",
    "\n",
    "# Forward Operation\n",
    "A, _ = linear_activation_forward(X.T, W, b, \"sigmoid\")\n",
    "print(\"A = \" + str(A.reshape(1,10)), end=\"\\n\\n\\n\")\n",
    "\n",
    "# Calc Cost\n",
    "cost = compute_cost(A, label)\n",
    "print(\"Cost : {}\".format(cost))"
   ]
  },
  {
   "cell_type": "markdown",
   "metadata": {},
   "source": [
    "**Expected Output**:\n",
    "\n",
    "<table>\n",
    "\n",
    "    <tr>\n",
    "    <td>**cost** </td>\n",
    "    <td> 0.25531183849673833</td> \n",
    "    </tr>\n",
    "</table>"
   ]
  },
  {
   "cell_type": "markdown",
   "metadata": {},
   "source": [
    "## 6 - Backward propagation module\n",
    "\n",
    "전파 알고리즘과 마찬가지로 역전파 알고리즘을 위한 함수를 구현합니다. \n",
    "\n",
    "**Reminder**: \n",
    "<img src=\"images/backprop_kiank.png\" style=\"width:650px;height:250px;\">\n",
    "<caption><center> **Figure 3** : Forward and Backward propagation for *LINEAR->RELU->LINEAR->SIGMOID* <br> *The purple blocks represent the forward propagation, and the red blocks represent the backward propagation.*  </center></caption>\n",
    "\n",
    "<!-- \n",
    "For those of you who are expert in calculus (you don't need to be to do this assignment), the chain rule of calculus can be used to derive the derivative of the loss $\\mathcal{L}$ with respect to $z^{[1]}$ in a 2-layer network as follows:\n",
    "\n",
    "$$\\frac{d \\mathcal{L}(a^{[2]},y)}{{dz^{[1]}}} = \\frac{d\\mathcal{L}(a^{[2]},y)}{{da^{[2]}}}\\frac{{da^{[2]}}}{{dz^{[2]}}}\\frac{{dz^{[2]}}}{{da^{[1]}}}\\frac{{da^{[1]}}}{{dz^{[1]}}} \\tag{8} $$\n",
    "\n",
    "In order to calculate the gradient $dW^{[1]} = \\frac{\\partial L}{\\partial W^{[1]}}$, you use the previous chain rule and you do $dW^{[1]} = dz^{[1]} \\times \\frac{\\partial z^{[1]} }{\\partial W^{[1]}}$. During the backpropagation, at each step you multiply your current gradient by the gradient corresponding to the specific layer to get the gradient you wanted.\n",
    "\n",
    "Equivalently, in order to calculate the gradient $db^{[1]} = \\frac{\\partial L}{\\partial b^{[1]}}$, you use the previous chain rule and you do $db^{[1]} = dz^{[1]} \\times \\frac{\\partial z^{[1]} }{\\partial b^{[1]}}$.\n",
    "\n",
    "This is why we talk about **backpropagation**.\n",
    "!-->\n",
    "\n",
    "Now, similar to forward propagation, you are going to build the backward propagation in three steps:\n",
    "- LINEAR backward\n",
    "- LINEAR -> ACTIVATION backward where ACTIVATION computes the derivative of either the ReLU or sigmoid activation\n",
    "- [LINEAR -> RELU] $\\times$ (L-1) -> LINEAR -> SIGMOID backward (whole model)"
   ]
  },
  {
   "cell_type": "markdown",
   "metadata": {},
   "source": [
    "### 6.1 - Linear backward\n",
    "\n",
    "For layer $l$, the linear part is: $Z^{[l]} = W^{[l]} A^{[l-1]} + b^{[l]}$ (followed by an activation).\n",
    "\n",
    "Suppose you have already calculated the derivative $dZ^{[l]} = \\frac{\\partial \\mathcal{L} }{\\partial Z^{[l]}}$. You want to get $(dW^{[l]}, db^{[l]} dA^{[l-1]})$.\n",
    "\n",
    "<img src=\"images/linearback_kiank.png\" style=\"width:250px;height:300px;\">\n",
    "<caption><center> **Figure 4** </center></caption>\n",
    "\n",
    "The three outputs $(dW^{[l]}, db^{[l]}, dA^{[l]})$ are computed using the input $dZ^{[l]}$.Here are the formulas you need:\n",
    "$$ dW^{[l]} = \\frac{\\partial \\mathcal{L} }{\\partial W^{[l]}} = \\frac{1}{m} dZ^{[l]} A^{[l-1] T} \\tag{8}$$\n",
    "$$ db^{[l]} = \\frac{\\partial \\mathcal{L} }{\\partial b^{[l]}} = \\frac{1}{m} \\sum_{i = 1}^{m} dZ^{[l](i)}\\tag{9}$$\n",
    "$$ dA^{[l-1]} = \\frac{\\partial \\mathcal{L} }{\\partial A^{[l-1]}} = W^{[l] T} dZ^{[l]} \\tag{10}$$\n"
   ]
  },
  {
   "cell_type": "markdown",
   "metadata": {},
   "source": [
    "### 6.2 - Linear-Activation backward\n",
    "\n",
    "Next, you will create a function that merges the two helper functions: **`linear_backward`** and the backward step for the activation **`linear_activation_backward`**. \n",
    "\n",
    "To help you implement `linear_activation_backward`, we provided two backward functions:\n",
    "- **`sigmoid_backward`**: Implements the backward propagation for SIGMOID unit. You can call it as follows:\n",
    "\n",
    "```python\n",
    "dZ = sigmoid_backward(dA, activation_cache)\n",
    "```\n",
    "\n",
    "- **`relu_backward`**: Implements the backward propagation for RELU unit. You can call it as follows:\n",
    "\n",
    "```python\n",
    "dZ = relu_backward(dA, activation_cache)\n",
    "```\n",
    "\n",
    "If $g(.)$ is the activation function, \n",
    "`sigmoid_backward` and `relu_backward` compute $$dZ^{[l]} = dA^{[l]} * g'(Z^{[l]}) \\tag{11}$$.  \n",
    "\n",
    "**Exercise**: Implement the backpropagation for the *LINEAR->ACTIVATION* layer."
   ]
  },
  {
   "cell_type": "code",
   "execution_count": 15,
   "metadata": {},
   "outputs": [],
   "source": [
    "def softmax_backward(dA, activation_cache):\n",
    "    return np.multiply(dA, activation_cache)\n",
    "\n",
    "def relu_backward(dA, activation_cache):\n",
    "    return np.multiply(dA, activation_cache)\n",
    "\n",
    "def sigmoid_backward(dA, activation_cache):\n",
    "    return np.multiply(dA, activation_cache)\n",
    "\n",
    "def linear_backward(dZ, cache):\n",
    "    A_prev, W, b = cache\n",
    "    m = A_prev.shape[1]\n",
    "\n",
    "    dW = np.dot(dZ, A_prev.T) / m\n",
    "    db = np.reshape(np.squeeze(np.sum(dZ, axis=1, keepdims=True)) / m, b.shape)\n",
    "    dA_prev = np.dot(W.T, dZ)\n",
    "\n",
    "    assert (dA_prev.shape == A_prev.shape)\n",
    "    assert (dW.shape == W.shape)\n",
    "    assert (db.shape == b.shape)\n",
    "\n",
    "    return dA_prev, dW, db\n",
    "\n",
    "def linear_activation_backward(dA, cache, activation):\n",
    "    linear_cache, activation_cache = cache\n",
    "\n",
    "    if activation == \"relu\":\n",
    "        dZ = relu_backward(dA, activation_cache)\n",
    "    elif activation == \"sigmoid\":\n",
    "        dZ = sigmoid_backward(dA, activation_cache)\n",
    "\n",
    "    dA_prev, dW, db = linear_backward(dZ, linear_cache)\n",
    "\n",
    "    return dA_prev, dW, db"
   ]
  },
  {
   "cell_type": "code",
   "execution_count": 18,
   "metadata": {},
   "outputs": [
    {
     "name": "stdout",
     "output_type": "stream",
     "text": [
      "dA_2 : [[ 0.009944385]]\n",
      "dW2 : [[ 0.013103269  0.01241159  0.01243891  0.01225898  0.012878054 -0.01329523\n",
      "   0.013138052  0.012362481  0.012709675  0.012529265]]\n",
      "db2 : [[ 0.025979883  0.02460849  0.024662657  0.024305909  0.025533349\n",
      "  -0.026360484  0.026048847  0.024511121  0.025199503  0.024841803]]\n"
     ]
    }
   ],
   "source": [
    "classes = 10\n",
    "\n",
    "# Input Data Reshape\n",
    "X = train_img[0].reshape(1,784)\n",
    "\n",
    "# Label Data\n",
    "label = np.array([int(i==int(train_label[0])) for i in range(classes)]).reshape(classes,1)\n",
    "\n",
    "# Init Params\n",
    "layer1_parameters = init_params(784,1)\n",
    "layer2_parameters = init_params(1,10)\n",
    "\n",
    "parameters = {\n",
    "    \"W1\"    :   layer1_parameters[\"W\"],\n",
    "    \"b1\"    :   layer1_parameters[\"b\"],\n",
    "    \"W2\"    :   layer2_parameters[\"W\"],\n",
    "    \"b2\"    :   layer2_parameters[\"b\"]\n",
    "}\n",
    "\n",
    "# Forward Operation\n",
    "A1, layer1_cache = linear_activation_forward(X.T, parameters[\"W1\"], parameters[\"b1\"], \"sigmoid\")\n",
    "A2, layer2_cache = linear_activation_forward(A1, parameters[\"W2\"], parameters[\"b2\"], \"sigmoid\")\n",
    "\n",
    "# Calc Cost\n",
    "Cost = compute_cost(A2, label)\n",
    "\n",
    "# Derivative cost\n",
    "m = label.shape[0]\n",
    "dCost = (-2/m)*(label-A2)\n",
    "\n",
    "dA_2, dW2, db2 = linear_activation_backward(dCost, layer2_cache, \"sigmoid\")\n",
    "print(\"dA_2 : {}\".format(dA_2))\n",
    "print(\"dW2 : {}\".format(dW2.reshape(1,10)))\n",
    "print(\"db2 : {}\".format(db2.reshape(1,10)))"
   ]
  },
  {
   "cell_type": "markdown",
   "metadata": {},
   "source": [
    "**Expected Output**: \n",
    "\n",
    "<table style=\"width:90%\">\n",
    "  <tr>\n",
    "    <td> **dA_2** </td>\n",
    "    <td > [[ 0.009944385]]</td> \n",
    "  </tr> \n",
    "  <tr>\n",
    "        <td> **dW2** </td>\n",
    "        <td > [[ 0.013103269  0.01241159  0.01243891  0.01225898  0.012878054 -0.01329523\n",
    "   0.013138052  0.012362481  0.012709675  0.012529265]] </td> \n",
    "  </tr> \n",
    "  <tr>\n",
    "        <td> **db2** </td>\n",
    "        <td> [[ 0.025979883  0.02460849  0.024662657  0.024305909  0.025533349\n",
    "  -0.026360484  0.026048847  0.024511121  0.025199503  0.024841803]]</td> \n",
    "  </tr> \n",
    "    \n",
    "</table>\n"
   ]
  },
  {
   "cell_type": "markdown",
   "metadata": {},
   "source": [
    "### 6.4 - Update Parameters\n",
    "\n",
    "In this section you will update the parameters of the model, using gradient descent: \n",
    "\n",
    "$$ W^{[l]} = W^{[l]} - \\alpha \\text{ } dW^{[l]} \\tag{16}$$\n",
    "$$ b^{[l]} = b^{[l]} - \\alpha \\text{ } db^{[l]} \\tag{17}$$\n",
    "\n",
    "where $\\alpha$ is the learning rate. After computing the updated parameters, store them in the parameters dictionary. "
   ]
  },
  {
   "cell_type": "markdown",
   "metadata": {},
   "source": [
    "**Exercise**: Implement `update_parameters()` to update your parameters using gradient descent.\n",
    "\n",
    "**Instructions**:\n",
    "Update parameters using gradient descent on every $W^{[l]}$ and $b^{[l]}$ for $l = 1, 2, ..., L$. \n"
   ]
  },
  {
   "cell_type": "code",
   "execution_count": 19,
   "metadata": {},
   "outputs": [],
   "source": [
    "def update_parameters(parameters, grads, learning_rate):\n",
    "    L = len(parameters) // 2\n",
    "\n",
    "    for l in range(1, L):\n",
    "        parameters[\"W\" + str(l + 1)] = parameters[\"W\" + str(l + 1)] - learning_rate * grads[\"dW\" + str(l + 1)]\n",
    "        parameters[\"b\" + str(l + 1)] = parameters[\"b\" + str(l + 1)] - learning_rate * grads[\"db\" + str(l + 1)]\n",
    "\n",
    "    return parameters"
   ]
  },
  {
   "cell_type": "code",
   "execution_count": 21,
   "metadata": {},
   "outputs": [
    {
     "name": "stdout",
     "output_type": "stream",
     "text": [
      "W2 = [[ 0.16112421 -0.0624168 -0.054061066 -0.10852276  0.085252958 -0.22882435\n",
      "   0.17316737 -0.077356938  0.030632942 -0.026189964]]\n",
      "b2 = [[-0.0025979883 -0.002460849 -0.0024662657 -0.0024305909 -0.0025533349\n",
      "   0.0026360484 -0.0026048847 -0.0024511121 -0.0025199503 -0.0024841803]]\n"
     ]
    }
   ],
   "source": [
    "classes = 10\n",
    "\n",
    "# Input Data Reshape\n",
    "X = train_img[0].reshape(1,784)\n",
    "\n",
    "# Label Data\n",
    "label = np.array([int(i==int(train_label[0])) for i in range(classes)]).reshape(classes,1)\n",
    "\n",
    "# Init Params\n",
    "layer1_parameters = init_params(784,1)\n",
    "layer2_parameters = init_params(1,10)\n",
    "\n",
    "parameters = {\n",
    "    \"W1\"    :   layer1_parameters[\"W\"],\n",
    "    \"b1\"    :   layer1_parameters[\"b\"],\n",
    "    \"W2\"    :   layer2_parameters[\"W\"],\n",
    "    \"b2\"    :   layer2_parameters[\"b\"]\n",
    "}\n",
    "\n",
    "# Forward Operation\n",
    "A1, layer1_cache = linear_activation_forward(X.T, parameters[\"W1\"], parameters[\"b1\"], \"sigmoid\")\n",
    "A2, layer2_cache = linear_activation_forward(A1, parameters[\"W2\"], parameters[\"b2\"], \"sigmoid\")\n",
    "\n",
    "# Calc Cost\n",
    "Cost = compute_cost(A2, label)\n",
    "\n",
    "# Derivative cost\n",
    "m = label.shape[0]\n",
    "dCost = (-2/m)*(label-A2)\n",
    "\n",
    "grads = {}\n",
    "\n",
    "grads[\"dA2\"], grads[\"dW2\"], grads[\"db2\"] = linear_activation_backward(dCost, layer2_cache, \"sigmoid\")\n",
    "\n",
    "parameters = update_parameters(parameters, grads, 0.1)\n",
    "\n",
    "print (\"W2 = \" + str(parameters[\"W2\"].reshape(1,10)))\n",
    "print (\"b2 = \" + str(parameters[\"b2\"].reshape(1,10)))\n"
   ]
  },
  {
   "cell_type": "markdown",
   "metadata": {},
   "source": [
    "**Expected Output**: \n",
    "\n",
    "<table style=\"width:90%\">\n",
    "  <tr>\n",
    "        <td> **W2** </td>\n",
    "        <td > [[ 0.16112421 -0.0624168 -0.054061066 -0.10852276  0.085252958 -0.22882435\n",
    "   0.17316737 -0.077356938  0.030632942 -0.026189964]] </td> \n",
    "  </tr> \n",
    "  <tr>\n",
    "        <td> **b2** </td>\n",
    "        <td> [[-0.0025979883 -0.002460849 -0.0024662657 -0.0024305909 -0.0025533349\n",
    "   0.0026360484 -0.0026048847 -0.0024511121 -0.0025199503 -0.0024841803]]</td> \n",
    "  </tr> \n",
    "    \n",
    "</table>\n"
   ]
  },
  {
   "cell_type": "code",
   "execution_count": 22,
   "metadata": {},
   "outputs": [],
   "source": [
    "#%reset"
   ]
  },
  {
   "cell_type": "markdown",
   "metadata": {},
   "source": [
    "Fully connected Layer"
   ]
  },
  {
   "cell_type": "code",
   "execution_count": 23,
   "metadata": {
    "scrolled": false
   },
   "outputs": [
    {
     "name": "stdout",
     "output_type": "stream",
     "text": [
      "Iteration : 0, \t Error : 0.28434161389904483, learning_rate : 0.1, \t index : 8, \t label : [[0 0 0 0 0 0 0 0 1 0]]\n",
      "Iteration : 5000, \t Error : 0.07001310842088501, learning_rate : 0.1, \t index : 7, \t label : [[0 0 0 0 0 0 0 1 0 0]]\n",
      "Iteration : 10000, \t Error : 0.01418019489858265, learning_rate : 0.1, \t index : 0, \t label : [[1 0 0 0 0 0 0 0 0 0]]\n",
      "Iteration : 15000, \t Error : 0.019880776852139105, learning_rate : 0.1, \t index : 3, \t label : [[0 0 0 1 0 0 0 0 0 0]]\n",
      "Iteration : 20000, \t Error : 0.0156687569850183, learning_rate : 0.1, \t index : 4, \t label : [[0 0 0 0 1 0 0 0 0 0]]\n",
      "Iteration : 25000, \t Error : 0.0023713938983711564, learning_rate : 0.1, \t index : 1, \t label : [[0 1 0 0 0 0 0 0 0 0]]\n",
      "Iteration : 30000, \t Error : 0.007495415605488526, learning_rate : 0.1, \t index : 2, \t label : [[0 0 1 0 0 0 0 0 0 0]]\n",
      "Iteration : 35000, \t Error : 0.008251249104878799, learning_rate : 0.1, \t index : 7, \t label : [[0 0 0 0 0 0 0 1 0 0]]\n",
      "Iteration : 40000, \t Error : 0.02979679354752387, learning_rate : 0.1, \t index : 9, \t label : [[0 0 0 0 0 0 0 0 0 1]]\n",
      "Iteration : 45000, \t Error : 0.04293065157669216, learning_rate : 0.1, \t index : 5, \t label : [[0 0 0 0 0 1 0 0 0 0]]\n",
      "Iteration : 50000, \t Error : 0.004546463954588533, learning_rate : 0.1, \t index : 9, \t label : [[0 0 0 0 0 0 0 0 0 1]]\n",
      "Iteration : 55000, \t Error : 0.05888502279644906, learning_rate : 0.1, \t index : 4, \t label : [[0 0 0 0 1 0 0 0 0 0]]\n"
     ]
    }
   ],
   "source": [
    "#########################\n",
    "##      Test Cost      ##\n",
    "#########################\n",
    "\n",
    "# Number of Train Data\n",
    "num_train_data = len(train_img)\n",
    "# Get array for Shuffle\n",
    "arr = np.arange(num_train_data)\n",
    "\n",
    "# Class number\n",
    "classes = 10\n",
    "\n",
    "# Define Hyper parameters\n",
    "epoch = 1\n",
    "learning_rate = 0.1\n",
    "batch_size = 128\n",
    "\n",
    "# Init Params\n",
    "layer1_parameters = init_params(784,1000)\n",
    "layer2_parameters = init_params(1000,100)\n",
    "layer3_parameters = init_params(100,classes)\n",
    "\n",
    "parameters = {\n",
    "    \"W1\"    :   layer1_parameters[\"W\"],\n",
    "    \"b1\"    :   layer1_parameters[\"b\"],\n",
    "    \"W2\"    :   layer2_parameters[\"W\"],\n",
    "    \"b2\"    :   layer2_parameters[\"b\"],\n",
    "    \"W3\"    :   layer3_parameters[\"W\"],\n",
    "    \"b3\"    :   layer3_parameters[\"b\"]\n",
    "}\n",
    "\n",
    "grads = {}\n",
    "Error = []\n",
    "\n",
    "for j in range(epoch):\n",
    "\n",
    "    # Shuffle Data\n",
    "    np.random.shuffle(arr)\n",
    "\n",
    "    for i in range(num_train_data):\n",
    "\n",
    "        # Define Input Data Pair\n",
    "        data_index = arr[i]\n",
    "        X, Y = train_img[data_index].reshape(784, 1), train_label[data_index]\n",
    "        label = np.array([int(i==int(Y)) for i in range(classes)]).reshape(classes,1)\n",
    "\n",
    "        # Forward Operation\n",
    "        A1, layer1_cache = linear_activation_forward(X, parameters[\"W1\"], parameters[\"b1\"], \"sigmoid\")\n",
    "        A2, layer2_cache = linear_activation_forward(A1, parameters[\"W2\"], parameters[\"b2\"], \"sigmoid\")\n",
    "        A3, layer3_cache = linear_activation_forward(A2, parameters[\"W3\"], parameters[\"b3\"], \"sigmoid\")\n",
    "\n",
    "        # MSE Error\n",
    "        cost = compute_cost(label, A3)\n",
    "        \n",
    "        # Derivative MSE Error\n",
    "        m = label.shape[0]\n",
    "        dCost = (-2/m)*(label - A3)\n",
    "\n",
    "        # Display Error\n",
    "        if (i % 5000 == 0):\n",
    "            print(\"Iteration : {}, \\t Error : {}, learning_rate : {}, \\t index : {}, \\t label : {}\".format((j * num_train_data) + i, cost, learning_rate,Y, label.reshape(1, 10)))\n",
    "            Error.append(cost)\n",
    "        \n",
    "        #if (i > 0) and (i % 25000) == 0:\n",
    "        #    learning_rate /= 10\n",
    "\n",
    "        # Backpropagation\n",
    "        grads[\"dA3\"], grads[\"dW3\"], grads[\"db3\"] = linear_activation_backward(dCost, layer3_cache, 'sigmoid')\n",
    "        grads[\"dA2\"], grads[\"dW2\"], grads[\"db2\"] = linear_activation_backward(grads[\"dA3\"], layer2_cache, 'sigmoid')\n",
    "        grads[\"dA1\"], grads[\"dW1\"], grads[\"db1\"] = linear_activation_backward(grads[\"dA2\"], layer1_cache, 'sigmoid')\n",
    "\n",
    "        # Update Parameters\n",
    "        parameters = update_parameters(parameters, grads, learning_rate)\n"
   ]
  },
  {
   "cell_type": "code",
   "execution_count": 24,
   "metadata": {
    "scrolled": true
   },
   "outputs": [
    {
     "data": {
      "image/png": "[encoded data removed]",
      "text/plain": [
       "<matplotlib.figure.Figure at 0x7f23c2f3b828>"
      ]
     },
     "metadata": {},
     "output_type": "display_data"
    }
   ],
   "source": [
    "x = np.arange(len(Error))\n",
    "plt.plot(x, Error)\n",
    "plt.show()"
   ]
  },
  {
   "cell_type": "code",
   "execution_count": 25,
   "metadata": {},
   "outputs": [
    {
     "data": {
      "image/png": "[encoded data removed]",
      "text/plain": [
       "<matplotlib.figure.Figure at 0x7f23c2f713c8>"
      ]
     },
     "metadata": {},
     "output_type": "display_data"
    },
    {
     "name": "stdout",
     "output_type": "stream",
     "text": [
      "Predict value : 7, OutPut scalar : \n",
      "\n",
      "[[ 0.0083813032  0.0014221282  0.0094224699  0.079637531  0.0016044151\n",
      "   0.0027609455  5.7349098e-05  0.97957175  0.0011380226  0.025214538]]\n"
     ]
    }
   ],
   "source": [
    "classes = 10\n",
    "label = np.array([int(i==int(val_label[0])) for i in range(classes)]).reshape(classes,1)\n",
    "Input = val_img[0]\n",
    "plt.imshow(Input, cmap='Greys_r')\n",
    "plt.show()\n",
    "\n",
    "Input = Input.reshape(784,1)\n",
    "\n",
    "\n",
    "A1, caches1 = linear_activation_forward(Input, parameters[\"W1\"], parameters[\"b1\"], \"sigmoid\")\n",
    "A2, caches2 = linear_activation_forward(A1, parameters[\"W2\"], parameters[\"b2\"], \"sigmoid\")\n",
    "A3, caches3 = linear_activation_forward(A2, parameters[\"W3\"], parameters[\"b3\"], \"sigmoid\")\n",
    "\n",
    "val = np.argmax(A3)\n",
    "print(\"Predict value : {}, OutPut scalar : \\n\\n{}\".format(val, A3.reshape(1,10)))"
   ]
  },
  {
   "cell_type": "code",
   "execution_count": null,
   "metadata": {},
   "outputs": [],
   "source": []
  }
 ],
 "metadata": {
  "kernelspec": {
   "display_name": "Python 3",
   "language": "python",
   "name": "python3"
  },
  "language_info": {
   "codemirror_mode": {
    "name": "ipython",
    "version": 3
   },
   "file_extension": ".py",
   "mimetype": "text/x-python",
   "name": "python",
   "nbconvert_exporter": "python",
   "pygments_lexer": "ipython3",
   "version": "3.5.2"
  }
 },
 "nbformat": 4,
 "nbformat_minor": 2
}
